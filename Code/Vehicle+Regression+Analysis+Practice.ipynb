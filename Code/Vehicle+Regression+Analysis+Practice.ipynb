{
 "cells": [
  {
   "cell_type": "markdown",
   "metadata": {},
   "source": [
    "# Model for predicting labour cost "
   ]
  },
  {
   "cell_type": "markdown",
   "metadata": {},
   "source": [
    "We have dataset, named vehicle and we are going to perform multiple linear regression and we will be trying to develop a regression model for the given dataset."
   ]
  },
  {
   "cell_type": "markdown",
   "metadata": {},
   "source": [
    "Data retrived from : https://drive.google.com/open?id=0B5W8CO0Gb2GGUVNyZ1JqMW1NZjA"
   ]
  },
  {
   "cell_type": "code",
   "execution_count": 3,
   "metadata": {
    "collapsed": false
   },
   "outputs": [],
   "source": [
    "setwd(\"C:/Users/Kapil Chicago/Desktop/Jupyter Notebook/Vehicle Regression\")"
   ]
  },
  {
   "cell_type": "code",
   "execution_count": 5,
   "metadata": {
    "collapsed": false
   },
   "outputs": [],
   "source": [
    "vehicle<-read.csv(\"vehicle.csv\")"
   ]
  },
  {
   "cell_type": "code",
   "execution_count": 7,
   "metadata": {
    "collapsed": false
   },
   "outputs": [
    {
     "data": {
      "text/html": [
       "<ol class=list-inline>\n",
       "\t<li>'vehicle'</li>\n",
       "\t<li>'fm'</li>\n",
       "\t<li>'Mileage'</li>\n",
       "\t<li>'lh'</li>\n",
       "\t<li>'lc'</li>\n",
       "\t<li>'mc'</li>\n",
       "\t<li>'State'</li>\n",
       "</ol>\n"
      ],
      "text/latex": [
       "\\begin{enumerate*}\n",
       "\\item 'vehicle'\n",
       "\\item 'fm'\n",
       "\\item 'Mileage'\n",
       "\\item 'lh'\n",
       "\\item 'lc'\n",
       "\\item 'mc'\n",
       "\\item 'State'\n",
       "\\end{enumerate*}\n"
      ],
      "text/markdown": [
       "1. 'vehicle'\n",
       "2. 'fm'\n",
       "3. 'Mileage'\n",
       "4. 'lh'\n",
       "5. 'lc'\n",
       "6. 'mc'\n",
       "7. 'State'\n",
       "\n",
       "\n"
      ],
      "text/plain": [
       "[1] \"vehicle\" \"fm\"      \"Mileage\" \"lh\"      \"lc\"      \"mc\"      \"State\"  "
      ]
     },
     "metadata": {},
     "output_type": "display_data"
    }
   ],
   "source": [
    "#names of the column in our dataset\n",
    "names(vehicle)"
   ]
  },
  {
   "cell_type": "code",
   "execution_count": 8,
   "metadata": {
    "collapsed": false
   },
   "outputs": [
    {
     "data": {
      "text/html": [
       "<table>\n",
       "<thead><tr><th scope=col>vehicle</th><th scope=col>fm</th><th scope=col>Mileage</th><th scope=col>lh</th><th scope=col>lc</th><th scope=col>mc</th><th scope=col>State</th></tr></thead>\n",
       "<tbody>\n",
       "\t<tr><td>1     </td><td> 0    </td><td>  863 </td><td>1.1   </td><td> 66.30</td><td>697.23</td><td>MS    </td></tr>\n",
       "\t<tr><td>2     </td><td>10    </td><td> 4644 </td><td>2.4   </td><td>233.03</td><td>119.66</td><td>CA    </td></tr>\n",
       "\t<tr><td>3     </td><td>15    </td><td>16330 </td><td>4.2   </td><td>325.08</td><td>175.46</td><td>WI    </td></tr>\n",
       "\t<tr><td>4     </td><td> 0    </td><td>   13 </td><td>1.0   </td><td> 66.64</td><td>  0.00</td><td>OR    </td></tr>\n",
       "\t<tr><td>5     </td><td>13    </td><td>22537 </td><td>4.5   </td><td>328.66</td><td>175.46</td><td>AZ    </td></tr>\n",
       "\t<tr><td>6     </td><td>21    </td><td>40931 </td><td>3.1   </td><td>205.28</td><td>175.46</td><td>FL    </td></tr>\n",
       "</tbody>\n",
       "</table>\n"
      ],
      "text/latex": [
       "\\begin{tabular}{r|lllllll}\n",
       " vehicle & fm & Mileage & lh & lc & mc & State\\\\\n",
       "\\hline\n",
       "\t 1      &  0     &   863  & 1.1    &  66.30 & 697.23 & MS    \\\\\n",
       "\t 2      & 10     &  4644  & 2.4    & 233.03 & 119.66 & CA    \\\\\n",
       "\t 3      & 15     & 16330  & 4.2    & 325.08 & 175.46 & WI    \\\\\n",
       "\t 4      &  0     &    13  & 1.0    &  66.64 &   0.00 & OR    \\\\\n",
       "\t 5      & 13     & 22537  & 4.5    & 328.66 & 175.46 & AZ    \\\\\n",
       "\t 6      & 21     & 40931  & 3.1    & 205.28 & 175.46 & FL    \\\\\n",
       "\\end{tabular}\n"
      ],
      "text/markdown": [
       "\n",
       "vehicle | fm | Mileage | lh | lc | mc | State | \n",
       "|---|---|---|---|---|---|\n",
       "| 1      |  0     |   863  | 1.1    |  66.30 | 697.23 | MS     | \n",
       "| 2      | 10     |  4644  | 2.4    | 233.03 | 119.66 | CA     | \n",
       "| 3      | 15     | 16330  | 4.2    | 325.08 | 175.46 | WI     | \n",
       "| 4      |  0     |    13  | 1.0    |  66.64 |   0.00 | OR     | \n",
       "| 5      | 13     | 22537  | 4.5    | 328.66 | 175.46 | AZ     | \n",
       "| 6      | 21     | 40931  | 3.1    | 205.28 | 175.46 | FL     | \n",
       "\n",
       "\n"
      ],
      "text/plain": [
       "  vehicle fm Mileage lh  lc     mc     State\n",
       "1 1        0   863   1.1  66.30 697.23 MS   \n",
       "2 2       10  4644   2.4 233.03 119.66 CA   \n",
       "3 3       15 16330   4.2 325.08 175.46 WI   \n",
       "4 4        0    13   1.0  66.64   0.00 OR   \n",
       "5 5       13 22537   4.5 328.66 175.46 AZ   \n",
       "6 6       21 40931   3.1 205.28 175.46 FL   "
      ]
     },
     "metadata": {},
     "output_type": "display_data"
    }
   ],
   "source": [
    "#Let’s see how our dataset looks like.  \n",
    "head(vehicle)"
   ]
  },
  {
   "cell_type": "markdown",
   "metadata": {},
   "source": [
    "Corelation matrix"
   ]
  },
  {
   "cell_type": "code",
   "execution_count": 27,
   "metadata": {
    "collapsed": false
   },
   "outputs": [
    {
     "data": {
      "text/html": [
       "<table>\n",
       "<thead><tr><th></th><th scope=col>Mileage</th><th scope=col>lh</th><th scope=col>lc</th><th scope=col>mc</th></tr></thead>\n",
       "<tbody>\n",
       "\t<tr><th scope=row>Mileage</th><td>1.00000000</td><td>0.07540572</td><td>0.06652076</td><td>0.09207116</td></tr>\n",
       "\t<tr><th scope=row>lh</th><td>0.07540572</td><td>1.00000000</td><td>0.97518184</td><td>0.57083073</td></tr>\n",
       "\t<tr><th scope=row>lc</th><td>0.06652076</td><td>0.97518184</td><td>1.00000000</td><td>0.55332429</td></tr>\n",
       "\t<tr><th scope=row>mc</th><td>0.09207116</td><td>0.57083073</td><td>0.55332429</td><td>1.00000000</td></tr>\n",
       "</tbody>\n",
       "</table>\n"
      ],
      "text/latex": [
       "\\begin{tabular}{r|llll}\n",
       "  & Mileage & lh & lc & mc\\\\\n",
       "\\hline\n",
       "\tMileage & 1.00000000 & 0.07540572 & 0.06652076 & 0.09207116\\\\\n",
       "\tlh & 0.07540572 & 1.00000000 & 0.97518184 & 0.57083073\\\\\n",
       "\tlc & 0.06652076 & 0.97518184 & 1.00000000 & 0.55332429\\\\\n",
       "\tmc & 0.09207116 & 0.57083073 & 0.55332429 & 1.00000000\\\\\n",
       "\\end{tabular}\n"
      ],
      "text/markdown": [
       "\n",
       "| <!--/--> | Mileage | lh | lc | mc | \n",
       "|---|---|---|---|\n",
       "| Mileage | 1.00000000 | 0.07540572 | 0.06652076 | 0.09207116 | \n",
       "| lh | 0.07540572 | 1.00000000 | 0.97518184 | 0.57083073 | \n",
       "| lc | 0.06652076 | 0.97518184 | 1.00000000 | 0.55332429 | \n",
       "| mc | 0.09207116 | 0.57083073 | 0.55332429 | 1.00000000 | \n",
       "\n",
       "\n"
      ],
      "text/plain": [
       "        Mileage    lh         lc         mc        \n",
       "Mileage 1.00000000 0.07540572 0.06652076 0.09207116\n",
       "lh      0.07540572 1.00000000 0.97518184 0.57083073\n",
       "lc      0.06652076 0.97518184 1.00000000 0.55332429\n",
       "mc      0.09207116 0.57083073 0.55332429 1.00000000"
      ]
     },
     "metadata": {},
     "output_type": "display_data"
    }
   ],
   "source": [
    "cor(vehicle[,3:6], method = \"pearson\")"
   ]
  },
  {
   "cell_type": "code",
   "execution_count": null,
   "metadata": {
    "collapsed": true
   },
   "outputs": [],
   "source": []
  },
  {
   "cell_type": "code",
   "execution_count": 6,
   "metadata": {
    "collapsed": false
   },
   "outputs": [
    {
     "data": {
      "image/png": "[encoded data removed]",
      "text/plain": [
       "plot without title"
      ]
     },
     "metadata": {},
     "output_type": "display_data"
    }
   ],
   "source": [
    "#Scatter plot to see the relation between our variables.\n",
    "\n",
    "pairs(vehicle[3:5])"
   ]
  },
  {
   "cell_type": "markdown",
   "metadata": {},
   "source": [
    "1) In above graph ,we can see lc (labour cost) and lh(labour hour)  are strongly corelated.\n",
    "2) There is very weak corelation between mileage vs (lc and lh)\n"
   ]
  },
  {
   "cell_type": "markdown",
   "metadata": {},
   "source": [
    "#Let's try to develop a linear regression model  "
   ]
  },
  {
   "cell_type": "code",
   "execution_count": 11,
   "metadata": {
    "collapsed": false
   },
   "outputs": [
    {
     "data": {
      "text/plain": [
       "\n",
       "Call:\n",
       "lm(formula = lc ~ Mileage + lh, data = vehicle)\n",
       "\n",
       "Coefficients:\n",
       "(Intercept)      Mileage           lh  \n",
       "  1.375e+00   -8.475e-05    7.355e+01  \n"
      ]
     },
     "metadata": {},
     "output_type": "display_data"
    }
   ],
   "source": [
    "#full model\n",
    "full<-lm(lc~Mileage+lh,data =vehicle)\n",
    "full"
   ]
  },
  {
   "cell_type": "markdown",
   "metadata": {},
   "source": [
    "# our full model \n",
    "lc =1.375e+00-8.475e-05*Mileage +7.355e+01*lh"
   ]
  },
  {
   "cell_type": "code",
   "execution_count": 12,
   "metadata": {
    "collapsed": false
   },
   "outputs": [
    {
     "data": {
      "text/plain": [
       "\n",
       "Call:\n",
       "lm(formula = lc ~ Mileage + lh, data = vehicle)\n",
       "\n",
       "Residuals:\n",
       "    Min      1Q  Median      3Q     Max \n",
       "-672.79  -14.73   -0.62   12.89  741.05 \n",
       "\n",
       "Coefficients:\n",
       "              Estimate Std. Error t value Pr(>|t|)    \n",
       "(Intercept)  1.375e+00  2.218e+00    0.62    0.535    \n",
       "Mileage     -8.475e-05  6.622e-05   -1.28    0.201    \n",
       "lh           7.355e+01  4.155e-01  177.01   <2e-16 ***\n",
       "---\n",
       "Signif. codes:  0 '***' 0.001 '**' 0.01 '*' 0.05 '.' 0.1 ' ' 1\n",
       "\n",
       "Residual standard error: 48.62 on 1621 degrees of freedom\n",
       "Multiple R-squared:  0.951,\tAdjusted R-squared:  0.951 \n",
       "F-statistic: 1.574e+04 on 2 and 1621 DF,  p-value: < 2.2e-16\n"
      ]
     },
     "metadata": {},
     "output_type": "display_data"
    }
   ],
   "source": [
    "summary(full)"
   ]
  },
  {
   "cell_type": "markdown",
   "metadata": {},
   "source": [
    "check p-values and check stars :\n",
    "1) ***  = highly significant\n",
    "2) no start = then no significant role"
   ]
  },
  {
   "cell_type": "code",
   "execution_count": null,
   "metadata": {
    "collapsed": true
   },
   "outputs": [],
   "source": []
  },
  {
   "cell_type": "code",
   "execution_count": null,
   "metadata": {
    "collapsed": true
   },
   "outputs": [],
   "source": [
    "Here, in our model  mileage is not construbuting, so lets try to build new model by removing Mileage. Mileage is not significantly contributing to the model"
   ]
  },
  {
   "cell_type": "code",
   "execution_count": null,
   "metadata": {
    "collapsed": true
   },
   "outputs": [],
   "source": []
  },
  {
   "cell_type": "markdown",
   "metadata": {},
   "source": [
    "New model"
   ]
  },
  {
   "cell_type": "code",
   "execution_count": 14,
   "metadata": {
    "collapsed": false,
    "scrolled": true
   },
   "outputs": [
    {
     "data": {
      "text/plain": [
       "\n",
       "Call:\n",
       "lm(formula = lc ~ lh, data = vehicle)\n",
       "\n",
       "Residuals:\n",
       "    Min      1Q  Median      3Q     Max \n",
       "-670.09  -14.72   -0.32   12.96  742.70 \n",
       "\n",
       "Coefficients:\n",
       "            Estimate Std. Error t value Pr(>|t|)    \n",
       "(Intercept)  -0.2359     1.8262  -0.129    0.897    \n",
       "lh           73.5088     0.4144 177.387   <2e-16 ***\n",
       "---\n",
       "Signif. codes:  0 '***' 0.001 '**' 0.01 '*' 0.05 '.' 0.1 ' ' 1\n",
       "\n",
       "Residual standard error: 48.63 on 1622 degrees of freedom\n",
       "Multiple R-squared:  0.951,\tAdjusted R-squared:  0.9509 \n",
       "F-statistic: 3.147e+04 on 1 and 1622 DF,  p-value: < 2.2e-16\n"
      ]
     },
     "metadata": {},
     "output_type": "display_data"
    }
   ],
   "source": [
    "reduced<-lm(lc~lh,data =vehicle)\n",
    "summary(reduced)"
   ]
  },
  {
   "cell_type": "markdown",
   "metadata": {},
   "source": [
    "# our new model\n",
    "lc= -0.2359+ 73.5088*lh"
   ]
  },
  {
   "cell_type": "markdown",
   "metadata": {},
   "source": [
    "# ANOVA "
   ]
  },
  {
   "cell_type": "code",
   "execution_count": 17,
   "metadata": {
    "collapsed": false
   },
   "outputs": [
    {
     "data": {
      "text/html": [
       "<table>\n",
       "<thead><tr><th scope=col>Res.Df</th><th scope=col>RSS</th><th scope=col>Df</th><th scope=col>Sum of Sq</th><th scope=col>F</th><th scope=col>Pr(&gt;F)</th></tr></thead>\n",
       "<tbody>\n",
       "\t<tr><td>1621     </td><td>3831889  </td><td>NA       </td><td>       NA</td><td>      NA </td><td>       NA</td></tr>\n",
       "\t<tr><td>1622     </td><td>3835760  </td><td>-1       </td><td>-3871.015</td><td>1.637551 </td><td>0.2008449</td></tr>\n",
       "</tbody>\n",
       "</table>\n"
      ],
      "text/latex": [
       "\\begin{tabular}{r|llllll}\n",
       " Res.Df & RSS & Df & Sum of Sq & F & Pr(>F)\\\\\n",
       "\\hline\n",
       "\t 1621      & 3831889   & NA        &        NA &       NA  &        NA\\\\\n",
       "\t 1622      & 3835760   & -1        & -3871.015 & 1.637551  & 0.2008449\\\\\n",
       "\\end{tabular}\n"
      ],
      "text/markdown": [
       "\n",
       "Res.Df | RSS | Df | Sum of Sq | F | Pr(>F) | \n",
       "|---|---|\n",
       "| 1621      | 3831889   | NA        |        NA |       NA  |        NA | \n",
       "| 1622      | 3835760   | -1        | -3871.015 | 1.637551  | 0.2008449 | \n",
       "\n",
       "\n"
      ],
      "text/plain": [
       "  Res.Df RSS     Df Sum of Sq F        Pr(>F)   \n",
       "1 1621   3831889 NA        NA       NA        NA\n",
       "2 1622   3835760 -1 -3871.015 1.637551 0.2008449"
      ]
     },
     "metadata": {},
     "output_type": "display_data"
    }
   ],
   "source": [
    "anova(full,reduced) # analysis of variance "
   ]
  },
  {
   "cell_type": "markdown",
   "metadata": {},
   "source": [
    "pr =0.2008449\n",
    "Adding mileage is not significantly contributing to regression model.\n",
    "So,basically, resuced form model is better than full model. \n",
    "\n",
    "lc= -0.2359+ 73.5088*lh\n"
   ]
  },
  {
   "cell_type": "code",
   "execution_count": null,
   "metadata": {
    "collapsed": true
   },
   "outputs": [],
   "source": [
    "Since we have developed regression model, then we can also predict the result:"
   ]
  },
  {
   "cell_type": "markdown",
   "metadata": {},
   "source": [
    "# Prediction\n",
    "If lh =10 hours, then what will be the labor cost:"
   ]
  },
  {
   "cell_type": "code",
   "execution_count": 22,
   "metadata": {
    "collapsed": false
   },
   "outputs": [
    {
     "data": {
      "text/html": [
       "<table>\n",
       "<thead><tr><th></th><th scope=col>fit</th><th scope=col>lwr</th><th scope=col>upr</th></tr></thead>\n",
       "<tbody>\n",
       "\t<tr><th scope=row>1</th><td>734.8522</td><td>728.9201</td><td>740.7844</td></tr>\n",
       "</tbody>\n",
       "</table>\n"
      ],
      "text/latex": [
       "\\begin{tabular}{r|lll}\n",
       "  & fit & lwr & upr\\\\\n",
       "\\hline\n",
       "\t1 & 734.8522 & 728.9201 & 740.7844\\\\\n",
       "\\end{tabular}\n"
      ],
      "text/markdown": [
       "\n",
       "| <!--/--> | fit | lwr | upr | \n",
       "|---|\n",
       "| 1 | 734.8522 | 728.9201 | 740.7844 | \n",
       "\n",
       "\n"
      ],
      "text/plain": [
       "  fit      lwr      upr     \n",
       "1 734.8522 728.9201 740.7844"
      ]
     },
     "metadata": {},
     "output_type": "display_data"
    }
   ],
   "source": [
    "predict(reduced,data.frame(lh=10),interval =\"confidence\")"
   ]
  },
  {
   "cell_type": "markdown",
   "metadata": {},
   "source": [
    "Results: \n",
    "1) Average labor cost fit(Average)= 734.8522\n",
    "2) Upper and lower values for labor cost are 728.9201 and 740.7844 respectively.\n",
    "\n",
    "    "
   ]
  }
 ],
 "metadata": {
  "kernelspec": {
   "display_name": "R",
   "language": "R",
   "name": "ir"
  },
  "language_info": {
   "codemirror_mode": "r",
   "file_extension": ".r",
   "mimetype": "text/x-r-source",
   "name": "R",
   "pygments_lexer": "r",
   "version": "3.3.3"
  }
 },
 "nbformat": 4,
 "nbformat_minor": 2
}
